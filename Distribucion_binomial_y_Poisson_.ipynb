{
  "nbformat": 4,
  "nbformat_minor": 0,
  "metadata": {
    "colab": {
      "provenance": [],
      "authorship_tag": "ABX9TyN1JJvA6zgHeDBul630mkMy",
      "include_colab_link": true
    },
    "kernelspec": {
      "name": "python3",
      "display_name": "Python 3"
    },
    "language_info": {
      "name": "python"
    }
  },
  "cells": [
    {
      "cell_type": "markdown",
      "metadata": {
        "id": "view-in-github",
        "colab_type": "text"
      },
      "source": [
        "<a href=\"https://colab.research.google.com/github/nahives/DISTRIBUCION-BINOMIAL-Y-DE-POSSION/blob/main/Distribucion_binomial_y_Poisson_.ipynb\" target=\"_parent\"><img src=\"https://colab.research.google.com/assets/colab-badge.svg\" alt=\"Open In Colab\"/></a>"
      ]
    },
    {
      "cell_type": "markdown",
      "source": [
        "*La probabilidad de exito de una vacuna es de 0.83. calcular la probabilidad de que una vez administrada a 16 pacientes ninguno sufra la enfermedad\n",
        "\n",
        "* N= numero de pacientes a los que se administra la vacuna\n",
        "* A= exito de la vacuna\n",
        "* p= P(A)=0.83, por lo tanto q=0.17\n",
        "* X= numero de pacientes."
      ],
      "metadata": {
        "id": "eXQpNZEZ6sGB"
      }
    },
    {
      "cell_type": "code",
      "source": [
        "from scipy.stats import binom\n",
        "\n",
        "# parametros de la distribucion binomial\n",
        "probabilidad_exito= 0.83\n",
        "num_pacientes= 16\n",
        "X= 16\n",
        "\n",
        "# calcular la probabilidad de que todos los pacientes sufran la enfermedad\n",
        "probabilidad_todos_enfermos= binom.pmf(X, num_pacientes, probabilidad_exito)\n",
        "\n",
        "print(\"la probabilidad de que todos los pacientes sufran enfermedad es:\",probabilidad_todos_enfermos)"
      ],
      "metadata": {
        "colab": {
          "base_uri": "https://localhost:8080/"
        },
        "id": "Mxmbz2b5Mu6D",
        "outputId": "bc4dd655-7554-4e16-b8f8-fcfa9e61e9c6"
      },
      "execution_count": 6,
      "outputs": [
        {
          "output_type": "stream",
          "name": "stdout",
          "text": [
            "la probabilidad de que todos los pacientes sufran enfermedad es: 0.0507282029895386\n"
          ]
        }
      ]
    },
    {
      "cell_type": "code",
      "execution_count": 5,
      "metadata": {
        "colab": {
          "base_uri": "https://localhost:8080/"
        },
        "id": "O_e9MCj46P43",
        "outputId": "b7965b81-45cc-496e-a2af-d439c4a04c82"
      },
      "outputs": [
        {
          "output_type": "stream",
          "name": "stdout",
          "text": [
            "la probabilidad de que todos los pacientes sufran enfermedad es: 4.866119187566701e-13\n"
          ]
        }
      ],
      "source": [
        "from scipy.stats import binom\n",
        "\n",
        "# parametros de la distribucion binomial\n",
        "probabilidad_exito= 0.83\n",
        "num_pacientes= 16\n",
        "X= 0\n",
        "\n",
        "# calcular la probabilidad de que todos los pacientes sufran la enfermedad\n",
        "probabilidad_todos_enfermos= binom.pmf(X, num_pacientes, probabilidad_exito)\n",
        "\n",
        "print(\"la probabilidad de que todos los pacientes sufran enfermedad es:\",probabilidad_todos_enfermos)"
      ]
    },
    {
      "cell_type": "markdown",
      "source": [
        "Para una variable binomial con n= 10 y una probabilidad de 0.10\n",
        "* encontrar la probabilidad de la variable aleatoria x=2. realizar un programa en phyton qu resuelva el problema usando una distribucion de probabilidad binomial"
      ],
      "metadata": {
        "id": "hJ5ehiVkNAdj"
      }
    },
    {
      "cell_type": "code",
      "source": [
        "from scipy.stats import binom\n",
        "\n",
        "# parametros de la distribucion binomial\n",
        "n= 10\n",
        "p=0.10\n",
        "x= 2\n",
        "\n",
        "# calcular la probabilidad de la variable aleatoria x=2\n",
        "probabilidad_x_2= binom.pmf(x, n, p)\n",
        "\n",
        "print(\"La probabilidad de que la variable aleatoria x sea igual a 2 es:\", probabilidad_x_2)"
      ],
      "metadata": {
        "colab": {
          "base_uri": "https://localhost:8080/"
        },
        "id": "oXwEskOC6qpl",
        "outputId": "a544b17c-738a-4cdb-cbd8-67eb627244af"
      },
      "execution_count": 7,
      "outputs": [
        {
          "output_type": "stream",
          "name": "stdout",
          "text": [
            "La probabilidad de que la variable aleatoria x sea igual a 2 es: 0.19371024450000007\n"
          ]
        }
      ]
    },
    {
      "cell_type": "markdown",
      "source": [
        "Para una variable aleatoria binomial con n=10 y una probabilidad de 0.10\n",
        "* calcular las probabilidad para cada valor de x=0 hasta 10\n",
        "* imprimir la tabla de valores de x y sus probabilidades\n"
      ],
      "metadata": {
        "id": "nCkOKUAqT7M5"
      }
    },
    {
      "cell_type": "code",
      "source": [
        "import numpy as np\n",
        "import matplotlib.pyplot as plt\n",
        "from scipy.stats import binom\n",
        "\n",
        "# parametros de las distribuciones binomial\n",
        "n=10\n",
        "p=0.10\n",
        "\n",
        "# calcular las probabilidades para cada valor de x de 0 a 10\n",
        "valores_x= np.arange(0,n+1)\n",
        "probabilidades_x=[binom.pmf(x, n , p) for x in valores_x]\n",
        "\n",
        "# imprimir la tabla de valores de x y sus propabilidades\n",
        "print(\"valores de x\\tprobabilidades\")\n",
        "for x,probabilidad in zip (valores_x, probabilidades_x):\n",
        "  print(f\"{x}\\t\\t{probabilidad}\")"
      ],
      "metadata": {
        "colab": {
          "base_uri": "https://localhost:8080/"
        },
        "id": "1PdL9hOtWwlU",
        "outputId": "fd7652eb-a507-4613-eb06-49d74b6df097"
      },
      "execution_count": 8,
      "outputs": [
        {
          "output_type": "stream",
          "name": "stdout",
          "text": [
            "valores de x\tprobabilidades\n",
            "0\t\t0.34867844009999993\n",
            "1\t\t0.38742048899999965\n",
            "2\t\t0.19371024450000007\n",
            "3\t\t0.05739562799999998\n",
            "4\t\t0.01116026100000001\n",
            "5\t\t0.0014880347999999995\n",
            "6\t\t0.00013778100000000007\n",
            "7\t\t8.748000000000003e-06\n",
            "8\t\t3.6449999999999996e-07\n",
            "9\t\t8.999999999999995e-09\n",
            "10\t\t1.0000000000000006e-10\n"
          ]
        }
      ]
    },
    {
      "cell_type": "code",
      "source": [
        "# graficar el histrograma de la distribucion binomial\n",
        "plt.figure(figsize=(8,6))\n",
        "plt.bar(valores_x, probabilidades_x, color='skyblue')\n",
        "plt.title('Distribucion Binomial')\n",
        "plt.xlabel('valor de X')\n",
        "plt.xticks(valores_x)\n",
        "plt.grid(True)\n",
        "plt.show()"
      ],
      "metadata": {
        "colab": {
          "base_uri": "https://localhost:8080/",
          "height": 564
        },
        "id": "pGby4DhWyp9z",
        "outputId": "5f87a102-9138-4f37-c1ff-8f002ac6f1ea"
      },
      "execution_count": 9,
      "outputs": [
        {
          "output_type": "display_data",
          "data": {
            "text/plain": [
              "<Figure size 800x600 with 1 Axes>"
            ],
            "image/png": "[encoded data removed]"
          },
          "metadata": {}
        }
      ]
    }
  ]
}